{
 "cells": [
  {
   "cell_type": "markdown",
   "id": "bf3a7a4e-dd24-42f6-846f-26d13ae18a26",
   "metadata": {},
   "source": [
    "Nornamlisation"
   ]
  },
  {
   "cell_type": "markdown",
   "id": "73068742-c4ca-4da7-999e-13fbe488d24a",
   "metadata": {},
   "source": [
    "Import"
   ]
  },
  {
   "cell_type": "code",
   "execution_count": 1,
   "id": "84ca906b-0cf3-477e-9578-852d3e4d389c",
   "metadata": {},
   "outputs": [],
   "source": [
    "import json\n",
    "from pathlib import Path\n",
    "from collections import defaultdict, Counter\n",
    "import copy\n",
    "import re\n"
   ]
  },
  {
   "cell_type": "markdown",
   "id": "044300fb-2762-496c-b1fd-b9033b185740",
   "metadata": {},
   "source": [
    "STEP 1 : Load data"
   ]
  },
  {
   "cell_type": "code",
   "execution_count": 6,
   "id": "f312ad39-fc7b-4d44-b70a-e2d74a230da7",
   "metadata": {},
   "outputs": [
    {
     "data": {
      "text/plain": [
       "[{'ecli': 'ECLI:DE:OVGSH:2004:0407.2LB73.03.00.txt',\n",
       "  'citation': 'BVerwG, Urt. v. 26.06.1987 - 8 C 21/86 -, BVerwGE 78, 3',\n",
       "  'label': 'CITATION',\n",
       "  'tags': [{'token': 'BVerwG', 'tag': 'B-Gericht'},\n",
       "   {'token': ',', 'tag': 'O'},\n",
       "   {'token': 'Urt', 'tag': 'O'},\n",
       "   {'token': '.', 'tag': 'O'},\n",
       "   {'token': 'v', 'tag': 'O'},\n",
       "   {'token': '.', 'tag': 'O'},\n",
       "   {'token': '26', 'tag': 'B-Datum'},\n",
       "   {'token': '.', 'tag': 'I-Datum'},\n",
       "   {'token': '06', 'tag': 'I-Datum'},\n",
       "   {'token': '.', 'tag': 'I-Datum'},\n",
       "   {'token': '1987', 'tag': 'I-Datum'},\n",
       "   {'token': '-', 'tag': 'O'},\n",
       "   {'token': '8', 'tag': 'B-Aktenzeichen'},\n",
       "   {'token': 'C', 'tag': 'I-Aktenzeichen'},\n",
       "   {'token': '21', 'tag': 'I-Aktenzeichen'},\n",
       "   {'token': '/', 'tag': 'I-Aktenzeichen'},\n",
       "   {'token': '86', 'tag': 'I-Aktenzeichen'},\n",
       "   {'token': '-', 'tag': 'O'},\n",
       "   {'token': ',', 'tag': 'O'},\n",
       "   {'token': 'BVerwGE', 'tag': 'B-Zeitschrift'},\n",
       "   {'token': '78', 'tag': 'B-Nummer'},\n",
       "   {'token': ',', 'tag': 'O'},\n",
       "   {'token': '3', 'tag': 'B-Seite-Beginn'}]}]"
      ]
     },
     "execution_count": 6,
     "metadata": {},
     "output_type": "execute_result"
    }
   ],
   "source": [
    "file_path = Path(\"../data/tagged_citations.jsonl\")\n",
    "citations = []\n",
    "\n",
    "with file_path.open(\"r\", encoding=\"utf-8\") as f:\n",
    "    for line in f:\n",
    "        data = json.loads(line)\n",
    "        citations.append(data)\n",
    "\n",
    "example_citations = citations[:1]\n",
    "example_citations\n"
   ]
  },
  {
   "cell_type": "code",
   "execution_count": 7,
   "id": "ac20097f-9c03-49bb-8cd4-27f9e7f09f56",
   "metadata": {},
   "outputs": [],
   "source": [
    "\n",
    "\n",
    "def split_citation_entry(entry, idx):\n",
    "    split_indices = [i for i, t in enumerate(entry[\"tags\"]) if t[\"token\"] == \";\" and t[\"tag\"] == \"O\"]\n",
    "    if not split_indices:\n",
    "        entry[\"id\"] = f\"cit{idx}\"\n",
    "        return [entry]\n",
    "\n",
    "    split_indices.append(len(entry[\"tags\"]))\n",
    "    \n",
    "    new_entries = []\n",
    "    start = 0\n",
    "    for i, end in enumerate(split_indices):\n",
    "        tags_part = entry[\"tags\"][start:end]\n",
    "        text_part = \" \".join(t[\"token\"] for t in tags_part).strip()\n",
    "        new_entry = copy.deepcopy(entry)\n",
    "        new_entry[\"tags\"] = tags_part\n",
    "        new_entry[\"citation\"] = text_part\n",
    "        new_entry[\"id\"] = f\"cit{idx}.split{i}\"\n",
    "        new_entries.append(new_entry)\n",
    "\n",
    "        start = end + 1\n",
    "\n",
    "    return new_entries\n",
    "\n",
    "citations_split = []\n",
    "for idx, citation in enumerate(citations):  # citations_raw is the original list\n",
    "    citations_split.extend(split_citation_entry(citation, idx))\n",
    "\n",
    "citations = citations_split\n",
    "\n"
   ]
  },
  {
   "cell_type": "code",
   "execution_count": 8,
   "id": "9fa89df1-ec43-43c9-b35f-14aff8777480",
   "metadata": {},
   "outputs": [
    {
     "name": "stdout",
     "output_type": "stream",
     "text": [
      "Citation: BVerwG, Urt. v. 26.06.1987 - 8 C 21/86 -, BVerwGE 78, 3\n",
      "ID: cit0\n",
      "Tokens and Tags:\n",
      "  BVerwG          B-Gericht\n",
      "  ,               O\n",
      "  Urt             O\n",
      "  .               O\n",
      "  v               O\n",
      "  .               O\n",
      "  26              B-Datum\n",
      "  .               I-Datum\n",
      "  06              I-Datum\n",
      "  .               I-Datum\n",
      "  1987            I-Datum\n",
      "  -               O\n",
      "  8               B-Aktenzeichen\n",
      "  C               I-Aktenzeichen\n",
      "  21              I-Aktenzeichen\n",
      "  /               I-Aktenzeichen\n",
      "  86              I-Aktenzeichen\n",
      "  -               O\n",
      "  ,               O\n",
      "  BVerwGE         B-Zeitschrift\n",
      "  78              B-Nummer\n",
      "  ,               O\n",
      "  3               B-Seite-Beginn\n",
      "------------------------------------------------------------\n"
     ]
    }
   ],
   "source": [
    "for c in citations[:1]:\n",
    "    print(\"Citation:\", c[\"citation\"])\n",
    "    print(\"ID:\", c[\"id\"])\n",
    "    print(\"Tokens and Tags:\")\n",
    "    for token in c[\"tags\"]:\n",
    "        print(f\"  {token['token']:<15} {token['tag']}\")\n",
    "    print(\"-\" * 60)\n"
   ]
  },
  {
   "cell_type": "markdown",
   "id": "8084a1ca-dd39-4447-bb57-17c95910e1e7",
   "metadata": {},
   "source": [
    "Step 2 : Extract and normalize fields"
   ]
  },
  {
   "cell_type": "code",
   "execution_count": 5,
   "id": "e63c9202-766d-47aa-b924-71879cf9aea5",
   "metadata": {},
   "outputs": [],
   "source": [
    "def normalize_date(tokens):\n",
    "    digits = [t for t in tokens if t.isdigit()]\n",
    "    if len(digits) == 3:\n",
    "        day, month, year = digits\n",
    "        return f\"{day}-{month.zfill(2)}-{year.zfill(2)}\"\n",
    "    return \" \".join(tokens)\n",
    "\n",
    "\n",
    "def normalize_case_number(tokens):\n",
    "    return \" \".join(tokens)\n",
    "\n",
    "def normalize_field(field, tokens):\n",
    "    if field == \"Datum\":\n",
    "        return normalize_date(tokens)\n",
    "    elif field == \"Aktenzeichen\":\n",
    "        return normalize_case_number(tokens)\n",
    "    else:\n",
    "        return \" \".join(tokens)\n",
    "\n",
    "def extract_normalized_fields(tagged_tokens):\n",
    "    fields = defaultdict(list)\n",
    "    current_label = None\n",
    "    i = 0\n",
    "\n",
    "    while i < len(tagged_tokens):\n",
    "        token = tagged_tokens[i][\"token\"]\n",
    "        tag = tagged_tokens[i][\"tag\"]\n",
    "\n",
    "        if (\n",
    "            token.lower() == \"s\"\n",
    "            and i + 2 < len(tagged_tokens)\n",
    "            and tagged_tokens[i + 1][\"token\"] == \".\"\n",
    "            and tagged_tokens[i + 2][\"tag\"] == \"B-Seite-Beginn\"\n",
    "        ):\n",
    "            page_token = tagged_tokens[i + 2][\"token\"]\n",
    "            fields[\"Seite-Beginn\"].append([\"Seite\", page_token])\n",
    "            i += 3\n",
    "            continue\n",
    "\n",
    "        if tag.startswith(\"B-\"):\n",
    "            current_label = tag[2:]\n",
    "            fields[current_label].append([token])\n",
    "        elif tag.startswith(\"I-\") and current_label:\n",
    "            fields[current_label][-1].append(token)\n",
    "        else:\n",
    "            current_label = None\n",
    "        i += 1\n",
    "\n",
    "    normalized_fields = {}\n",
    "    for label, chunks in fields.items():\n",
    "        normalized_fields[label] = [normalize_field(label, chunk) for chunk in chunks]\n",
    "\n",
    "    return normalized_fields\n",
    "\n",
    "\n",
    "for citation in citations:\n",
    "    citation[\"normalized_fields\"] = extract_normalized_fields(citation[\"tags\"])\n",
    "    \n",
    "for example in citations[:10]:\n",
    "    print(\"Original:\", example[\"citation\"])\n",
    "    print(\"Normalized Fields:\", example[\"normalized_fields\"])\n",
    "    print(\"ID:\", example[\"id\"])\n",
    "    print(\"-\" * 80)\n",
    "\n"
   ]
  },
  {
   "cell_type": "markdown",
   "id": "5a19c4de-7c9f-43d7-b1aa-ecbcf3153b82",
   "metadata": {},
   "source": [
    "Step 3 : Expand Abbreviation"
   ]
  },
  {
   "cell_type": "code",
   "execution_count": 22,
   "id": "128e0491-5023-4b55-9789-83af9e0ee42c",
   "metadata": {},
   "outputs": [
    {
     "name": "stdout",
     "output_type": "stream",
     "text": [
      "Original: BVerwG, Urt. v. 26.06.1987 - 8 C 21/86 -, BVerwGE 78, 3\n",
      "Expanded Fields: {'Gericht': ['Bundesverwaltungsgericht'], 'Datum': ['26-06-1987'], 'Aktenzeichen': ['8 C 21 / 86'], 'Zeitschrift': ['Entscheidungen des Bundesverwaltungsgerichts'], 'Nummer': ['78'], 'Seite-Beginn': ['3']}\n",
      "ID: cit0\n",
      "--------------------------------------------------------------------------------\n",
      "Original: Urt. d. Senats v. 26.01.2000 - 2 L 236/98 -\n",
      "Expanded Fields: {'Datum': ['26-01-2000'], 'Aktenzeichen': ['2 L 236 / 98']}\n",
      "ID: cit1\n",
      "--------------------------------------------------------------------------------\n",
      "Original: BVerwG, Urt. v. 27.10.1982 - 3 C 6.82 -, BVerwGE 66, 218\n",
      "Expanded Fields: {'Gericht': ['Bundesverwaltungsgericht'], 'Datum': ['27-10-1982'], 'Aktenzeichen': ['3 C 6 . 82'], 'Zeitschrift': ['Entscheidungen des Bundesverwaltungsgerichts'], 'Nummer': ['66'], 'Seite-Beginn': ['218']}\n",
      "ID: cit2\n",
      "--------------------------------------------------------------------------------\n",
      "Original: hierzu BVerwG, Urt. v. 26.06.1987, a.a.O.\n",
      "Expanded Fields: {'Gericht': ['Bundesverwaltungsgericht'], 'Datum': ['26-06-1987']}\n",
      "ID: cit3\n",
      "--------------------------------------------------------------------------------\n",
      "Original: GVOBl. S. 239\n",
      "Expanded Fields: {'Zeitschrift': ['Gesetz- und Verordnungsblatt'], 'Seite-Beginn': ['Seite 239']}\n",
      "ID: cit4\n",
      "--------------------------------------------------------------------------------\n",
      "Original: BVerwG, Urt. v. 18.03.1999 - 5 C 11.98 -, FEVS 49, 443\n",
      "Expanded Fields: {'Gericht': ['Bundesverwaltungsgericht'], 'Datum': ['18-03-1999'], 'Aktenzeichen': ['5 C 11 . 98'], 'Zeitschrift': ['Entscheidungen der Verwaltungsgerichte in Schleswig-Holstein'], 'Nummer': ['49'], 'Seite-Beginn': ['443']}\n",
      "ID: cit5\n",
      "--------------------------------------------------------------------------------\n",
      "Original: BVerwG, Urt. v. 06.02.2003 - 5 C 15.02 -, BVerwGE 117, 364\n",
      "Expanded Fields: {'Gericht': ['Bundesverwaltungsgericht'], 'Datum': ['06-02-2003'], 'Aktenzeichen': ['5 C 15 . 02'], 'Zeitschrift': ['Entscheidungen des Bundesverwaltungsgerichts'], 'Nummer': ['117'], 'Seite-Beginn': ['364']}\n",
      "ID: cit6\n",
      "--------------------------------------------------------------------------------\n",
      "Original: hierzu : BVerwG , Urt . v . 06 . 02 . 2003 , a . a . O .\n",
      "Expanded Fields: {'Gericht': ['Bundesverwaltungsgericht'], 'Datum': ['06-02-2003']}\n",
      "ID: cit7.split0\n",
      "--------------------------------------------------------------------------------\n",
      "Original: LPK - BSHG , 6 . Aufl . , § 107 Rdnr . 20\n",
      "Expanded Fields: {'Titel': ['Loseblattsammlung Praxis-Kommentar'], 'Gesetz': ['BSHG'], 'Auflage': ['6', 'Aufl'], 'Paragraph': ['§ 107'], 'Randnummer': ['20']}\n",
      "ID: cit7.split1\n",
      "--------------------------------------------------------------------------------\n",
      "Original: Urt. v. 18.03.1999, a.a.O.\n",
      "Expanded Fields: {'Datum': ['18-03-1999']}\n",
      "ID: cit8\n",
      "--------------------------------------------------------------------------------\n"
     ]
    }
   ],
   "source": [
    "\n",
    "abbreviation_dict = {\n",
    "    \"BGH\": \"Bundesgerichtshof\",\n",
    "    \"BVerwG\": \"Bundesverwaltungsgericht\",\n",
    "    \"OVG\": \"Oberverwaltungsgericht\",\n",
    "    \"BVerfG\": \"Bundesverfassungsgericht\",\n",
    "    \"Urt.\": \"Urteil\",\n",
    "    \"v.\": \"vom\",\n",
    "    \"Az.\": \"Aktenzeichen\",\n",
    "    \"NJW\": \"Neue Juristische Wochenschrift\",\n",
    "    \"BVerwGE\": \"Entscheidungen des Bundesverwaltungsgerichts\",\n",
    "    \"GVOBl\": \"Gesetz- und Verordnungsblatt\",\n",
    "    \"FEVS\": \"Entscheidungen der Verwaltungsgerichte in Schleswig-Holstein\",\n",
    "    \"NVwZ\": \"Neue Zeitschrift für Verwaltungsrecht\",\n",
    "    \"LPK\": \"Loseblattsammlung Praxis-Kommentar\"\n",
    "}\n",
    "\n",
    "def expand_abbreviations(normalized_fields):\n",
    "    expanded = {}\n",
    "    for field, values in normalized_fields.items():\n",
    "        expanded_values = []\n",
    "        for val in values:\n",
    "            words = val.split()\n",
    "            expanded_words = [\n",
    "                abbreviation_dict.get(w.strip(\".\"), w) for w in words\n",
    "            ]\n",
    "            expanded_values.append(\" \".join(expanded_words))\n",
    "        expanded[field] = expanded_values\n",
    "    return expanded\n",
    "\n",
    "for citation in citations:\n",
    "    citation[\"expanded_fields\"] = expand_abbreviations(citation[\"normalized_fields\"])\n",
    "\n",
    "for example in citations[:10]:\n",
    "    print(\"Original:\", example[\"citation\"])\n",
    "    print(\"Expanded Fields:\", example[\"expanded_fields\"])\n",
    "    print(\"ID:\", example[\"id\"])\n",
    "    print(\"-\" * 80)\n"
   ]
  },
  {
   "cell_type": "markdown",
   "id": "6b4565b5-4759-4030-a71a-c0995913a730",
   "metadata": {},
   "source": [
    "Step 3b : Cleaning spaces"
   ]
  },
  {
   "cell_type": "code",
   "execution_count": 23,
   "id": "f5b6e698-c3f0-421e-be97-135bfc4ce02d",
   "metadata": {},
   "outputs": [
    {
     "name": "stdout",
     "output_type": "stream",
     "text": [
      "Original: BVerwG, Urt. v. 26.06.1987 - 8 C 21/86 -, BVerwGE 78, 3\n",
      "Expanded Fields: {'Gericht': ['Bundesverwaltungsgericht'], 'Datum': ['26-06-1987'], 'Aktenzeichen': ['8 C 21/86'], 'Zeitschrift': ['Entscheidungen des Bundesverwaltungsgerichts'], 'Nummer': ['78'], 'Seite-Beginn': ['3']}\n",
      "ID: cit0\n",
      "--------------------------------------------------------------------------------\n",
      "Original: Urt. d. Senats v. 26.01.2000 - 2 L 236/98 -\n",
      "Expanded Fields: {'Datum': ['26-01-2000'], 'Aktenzeichen': ['2 L 236/98']}\n",
      "ID: cit1\n",
      "--------------------------------------------------------------------------------\n",
      "Original: BVerwG, Urt. v. 27.10.1982 - 3 C 6.82 -, BVerwGE 66, 218\n",
      "Expanded Fields: {'Gericht': ['Bundesverwaltungsgericht'], 'Datum': ['27-10-1982'], 'Aktenzeichen': ['3 C 6.82'], 'Zeitschrift': ['Entscheidungen des Bundesverwaltungsgerichts'], 'Nummer': ['66'], 'Seite-Beginn': ['218']}\n",
      "ID: cit2\n",
      "--------------------------------------------------------------------------------\n",
      "Original: hierzu BVerwG, Urt. v. 26.06.1987, a.a.O.\n",
      "Expanded Fields: {'Gericht': ['Bundesverwaltungsgericht'], 'Datum': ['26-06-1987']}\n",
      "ID: cit3\n",
      "--------------------------------------------------------------------------------\n",
      "Original: GVOBl. S. 239\n",
      "Expanded Fields: {'Zeitschrift': ['Gesetz- und Verordnungsblatt'], 'Seite-Beginn': ['Seite 239']}\n",
      "ID: cit4\n",
      "--------------------------------------------------------------------------------\n",
      "Original: BVerwG, Urt. v. 18.03.1999 - 5 C 11.98 -, FEVS 49, 443\n",
      "Expanded Fields: {'Gericht': ['Bundesverwaltungsgericht'], 'Datum': ['18-03-1999'], 'Aktenzeichen': ['5 C 11.98'], 'Zeitschrift': ['Entscheidungen der Verwaltungsgerichte in Schleswig-Holstein'], 'Nummer': ['49'], 'Seite-Beginn': ['443']}\n",
      "ID: cit5\n",
      "--------------------------------------------------------------------------------\n",
      "Original: BVerwG, Urt. v. 06.02.2003 - 5 C 15.02 -, BVerwGE 117, 364\n",
      "Expanded Fields: {'Gericht': ['Bundesverwaltungsgericht'], 'Datum': ['06-02-2003'], 'Aktenzeichen': ['5 C 15.02'], 'Zeitschrift': ['Entscheidungen des Bundesverwaltungsgerichts'], 'Nummer': ['117'], 'Seite-Beginn': ['364']}\n",
      "ID: cit6\n",
      "--------------------------------------------------------------------------------\n",
      "Original: hierzu : BVerwG , Urt . v . 06 . 02 . 2003 , a . a . O .\n",
      "Expanded Fields: {'Gericht': ['Bundesverwaltungsgericht'], 'Datum': ['06-02-2003']}\n",
      "ID: cit7.split0\n",
      "--------------------------------------------------------------------------------\n",
      "Original: LPK - BSHG , 6 . Aufl . , § 107 Rdnr . 20\n",
      "Expanded Fields: {'Titel': ['Loseblattsammlung Praxis-Kommentar'], 'Gesetz': ['BSHG'], 'Auflage': ['6', 'Aufl'], 'Paragraph': ['§ 107'], 'Randnummer': ['20']}\n",
      "ID: cit7.split1\n",
      "--------------------------------------------------------------------------------\n",
      "Original: Urt. v. 18.03.1999, a.a.O.\n",
      "Expanded Fields: {'Datum': ['18-03-1999']}\n",
      "ID: cit8\n",
      "--------------------------------------------------------------------------------\n"
     ]
    }
   ],
   "source": [
    "def clean_spacing(text):\n",
    "    return re.sub(r\"\\s*([/.])\\s*\", r\"\\1\", text)\n",
    "\n",
    "def clean_all_expanded_fields(expanded_fields):\n",
    "    cleaned = {}\n",
    "    for field, values in expanded_fields.items():\n",
    "        cleaned[field] = [clean_spacing(val) for val in values]\n",
    "    return cleaned\n",
    "\n",
    "for citation in citations:\n",
    "    citation[\"expanded_fields\"] = clean_all_expanded_fields(citation[\"expanded_fields\"])\n",
    "\n",
    "for example in citations[:10]:\n",
    "    print(\"Original:\", example[\"citation\"])\n",
    "    print(\"Expanded Fields:\", example[\"expanded_fields\"])\n",
    "    print(\"ID:\", example[\"id\"])\n",
    "    print(\"-\" * 80)\n",
    "\n"
   ]
  },
  {
   "cell_type": "markdown",
   "id": "beea81aa-8885-40f1-bf81-6d35fc3bc906",
   "metadata": {},
   "source": [
    "Step 4 : Reconstruction"
   ]
  },
  {
   "cell_type": "code",
   "execution_count": 24,
   "id": "b0ef44b8-964e-4885-9c29-f239fd3a92ea",
   "metadata": {},
   "outputs": [
    {
     "name": "stdout",
     "output_type": "stream",
     "text": [
      "Original: BVerwG, Urt. v. 26.06.1987 - 8 C 21/86 -, BVerwGE 78, 3\n",
      "Normalized: Bundesverwaltungsgericht, Urteil vom 1987.06.26, - 8 C 21/86 -, Entscheidungen des Bundesverwaltungsgerichts 78, 3\n",
      "ID: cit0\n",
      "--------------------------------------------------------------------------------\n",
      "Original: Urt. d. Senats v. 26.01.2000 - 2 L 236/98 -\n",
      "Normalized: Urteil vom 2000.01.26, - 2 L 236/98 -\n",
      "ID: cit1\n",
      "--------------------------------------------------------------------------------\n",
      "Original: BVerwG, Urt. v. 27.10.1982 - 3 C 6.82 -, BVerwGE 66, 218\n",
      "Normalized: Bundesverwaltungsgericht, Urteil vom 1982.10.27, - 3 C 6.82 -, Entscheidungen des Bundesverwaltungsgerichts 66, 218\n",
      "ID: cit2\n",
      "--------------------------------------------------------------------------------\n",
      "Original: hierzu BVerwG, Urt. v. 26.06.1987, a.a.O.\n",
      "Normalized: Bundesverwaltungsgericht, Urteil vom 1987.06.26\n",
      "ID: cit3\n",
      "--------------------------------------------------------------------------------\n",
      "Original: GVOBl. S. 239\n",
      "Normalized: Gesetz- und Verordnungsblatt, Seite 239\n",
      "ID: cit4\n",
      "--------------------------------------------------------------------------------\n",
      "Original: BVerwG, Urt. v. 18.03.1999 - 5 C 11.98 -, FEVS 49, 443\n",
      "Normalized: Bundesverwaltungsgericht, Urteil vom 1999.03.18, - 5 C 11.98 -, Entscheidungen der Verwaltungsgerichte in Schleswig-Holstein 49, 443\n",
      "ID: cit5\n",
      "--------------------------------------------------------------------------------\n",
      "Original: BVerwG, Urt. v. 06.02.2003 - 5 C 15.02 -, BVerwGE 117, 364\n",
      "Normalized: Bundesverwaltungsgericht, Urteil vom 2003.02.06, - 5 C 15.02 -, Entscheidungen des Bundesverwaltungsgerichts 117, 364\n",
      "ID: cit6\n",
      "--------------------------------------------------------------------------------\n",
      "Original: hierzu : BVerwG , Urt . v . 06 . 02 . 2003 , a . a . O .\n",
      "Normalized: Bundesverwaltungsgericht, Urteil vom 2003.02.06\n",
      "ID: cit7.split0\n",
      "--------------------------------------------------------------------------------\n",
      "Original: LPK - BSHG , 6 . Aufl . , § 107 Rdnr . 20\n",
      "Normalized: Loseblattsammlung Praxis-Kommentar, 6 Aufl., BSHG, § 107, Rdnr. 20\n",
      "ID: cit7.split1\n",
      "--------------------------------------------------------------------------------\n",
      "Original: Urt. v. 18.03.1999, a.a.O.\n",
      "Normalized: \n",
      "ID: cit8\n",
      "--------------------------------------------------------------------------------\n"
     ]
    }
   ],
   "source": [
    "def format_date_german(iso_date):\n",
    "    try:\n",
    "        year, month, day = iso_date.split(\"-\")\n",
    "        return f\"{day}.{month}.{year}\"\n",
    "    except Exception:\n",
    "        return iso_date\n",
    "\n",
    "def reconstruct_citation(citation):\n",
    "    expanded_fields = citation[\"expanded_fields\"]\n",
    "\n",
    "    def get(field):\n",
    "        return expanded_fields.get(field, [])\n",
    "\n",
    "    def first(field):\n",
    "        return get(field)[0] if get(field) else None\n",
    "\n",
    "    def join_list(field):\n",
    "        joined = \" / \".join(get(field)) if get(field) else None\n",
    "        return re.sub(r'\\s*/\\s*', '/', joined) if joined else None  # clean slashes\n",
    "\n",
    "    court = first(\"Gericht\")\n",
    "    date = first(\"Datum\")\n",
    "    case = first(\"Aktenzeichen\")\n",
    "    journal = first(\"Zeitschrift\")\n",
    "    volume = first(\"Nummer\")\n",
    "    page = first(\"Seite-Beginn\") or first(\"Seite-Fundstelle\")\n",
    "    law = first(\"Gesetz\")\n",
    "    paragraph = \" \".join(get(\"Paragraph\")).replace(\"§\", \"\").strip()\n",
    "    randnummer = \" \".join(get(\"Randnummer\"))\n",
    "    title = \" \".join(get(\"Titel\"))\n",
    "    authors = join_list(\"Autor\")\n",
    "    edition = \" \".join(get(\"Auflage\")).replace(\"Aufl\", \"\").strip()\n",
    "    year = first(\"Jahr\")\n",
    "\n",
    "    parts = []\n",
    "\n",
    "    if court or case or journal:\n",
    "        if court:\n",
    "            parts.append(court)\n",
    "        if date:\n",
    "            parts.append(f\"Urteil vom {format_date_german(date)}\")\n",
    "        if case:\n",
    "            parts.append(f\"- {case} -\")\n",
    "        if journal and volume and page:\n",
    "            parts.append(f\"{journal} {volume}, {page}\")\n",
    "        elif journal and page:\n",
    "            parts.append(f\"{journal}, {page}\")\n",
    "        elif journal:\n",
    "            parts.append(journal)\n",
    "        if year and not volume:\n",
    "            parts.append(year)\n",
    "\n",
    "    if authors or law or paragraph or randnummer or title or edition:\n",
    "        subparts = []\n",
    "        if authors:\n",
    "            subparts.append(authors)\n",
    "        if title:\n",
    "            subparts.append(title)\n",
    "        if edition:\n",
    "            subparts.append(f\"{edition} Aufl.\")\n",
    "        if law:\n",
    "            subparts.append(law)\n",
    "        if paragraph:\n",
    "            subparts.append(f\"§ {paragraph}\")\n",
    "        if randnummer:\n",
    "            subparts.append(f\"Rdnr. {randnummer}\")\n",
    "        if year and not journal:\n",
    "            subparts.append(year)\n",
    "        if subparts:\n",
    "            parts.append(\", \".join(subparts))\n",
    "\n",
    "    inline_text = \" \".join([t[\"token\"] for t in citation.get(\"tags\", [])])\n",
    "    if re.search(r\"\\ba\\.a\\.O\\.\\b\", inline_text, flags=re.IGNORECASE):\n",
    "        parts.append(\"a.a.O.\")\n",
    "    elif re.search(r\"\\bebd\\.\\b\", inline_text, flags=re.IGNORECASE):\n",
    "        parts.append(\"ebd.\")\n",
    "\n",
    "\n",
    "\n",
    "    return \", \".join(parts).strip()\n",
    "\n",
    "\n",
    "\n",
    "for citation in citations:\n",
    "    citation[\"normalized_text\"] = reconstruct_citation(citation)\n",
    "\n",
    "for example in citations[:10]:\n",
    "    print(\"Original:\", example[\"citation\"])\n",
    "    print(\"Normalized:\", example[\"normalized_text\"])\n",
    "    print(\"ID:\", example[\"id\"])\n",
    "    print(\"-\" * 80)\n",
    "\n"
   ]
  },
  {
   "cell_type": "markdown",
   "id": "50654a84-2318-4e09-9c02-32551c0bc8cf",
   "metadata": {},
   "source": [
    "Step 4b : Checking reconstruction"
   ]
  },
  {
   "cell_type": "code",
   "execution_count": 3,
   "id": "80080bcc-4133-47b1-a2eb-be76185bb7fc",
   "metadata": {},
   "outputs": [
    {
     "ename": "NameError",
     "evalue": "name 'citations' is not defined",
     "output_type": "error",
     "traceback": [
      "\u001b[0;31m---------------------------------------------------------------------------\u001b[0m",
      "\u001b[0;31mNameError\u001b[0m                                 Traceback (most recent call last)",
      "\u001b[0;32m/var/folders/x2/7zjm577917q3bh1bkph8z0wm0000gn/T/ipykernel_17241/2128476839.py\u001b[0m in \u001b[0;36m<module>\u001b[0;34m\u001b[0m\n\u001b[0;32m----> 1\u001b[0;31m \u001b[0munhandled_citations\u001b[0m \u001b[0;34m=\u001b[0m \u001b[0;34m[\u001b[0m\u001b[0mc\u001b[0m \u001b[0;32mfor\u001b[0m \u001b[0mc\u001b[0m \u001b[0;32min\u001b[0m \u001b[0mcitations\u001b[0m \u001b[0;32mif\u001b[0m \u001b[0;32mnot\u001b[0m \u001b[0mc\u001b[0m\u001b[0;34m.\u001b[0m\u001b[0mget\u001b[0m\u001b[0;34m(\u001b[0m\u001b[0;34m\"normalized_text\"\u001b[0m\u001b[0;34m)\u001b[0m\u001b[0;34m]\u001b[0m\u001b[0;34m\u001b[0m\u001b[0;34m\u001b[0m\u001b[0m\n\u001b[0m\u001b[1;32m      2\u001b[0m \u001b[0;34m\u001b[0m\u001b[0m\n\u001b[1;32m      3\u001b[0m \u001b[0;32mfor\u001b[0m \u001b[0mc\u001b[0m \u001b[0;32min\u001b[0m \u001b[0munhandled_citations\u001b[0m\u001b[0;34m[\u001b[0m\u001b[0;34m:\u001b[0m\u001b[0;36m5\u001b[0m\u001b[0;34m]\u001b[0m\u001b[0;34m:\u001b[0m\u001b[0;34m\u001b[0m\u001b[0;34m\u001b[0m\u001b[0m\n\u001b[1;32m      4\u001b[0m     \u001b[0mprint\u001b[0m\u001b[0;34m(\u001b[0m\u001b[0;34m\"Original:\"\u001b[0m\u001b[0;34m,\u001b[0m \u001b[0mc\u001b[0m\u001b[0;34m[\u001b[0m\u001b[0;34m\"citation\"\u001b[0m\u001b[0;34m]\u001b[0m\u001b[0;34m)\u001b[0m\u001b[0;34m\u001b[0m\u001b[0;34m\u001b[0m\u001b[0m\n\u001b[1;32m      5\u001b[0m     \u001b[0mprint\u001b[0m\u001b[0;34m(\u001b[0m\u001b[0;34m\"ECLI:\"\u001b[0m\u001b[0;34m,\u001b[0m \u001b[0mc\u001b[0m\u001b[0;34m.\u001b[0m\u001b[0mget\u001b[0m\u001b[0;34m(\u001b[0m\u001b[0;34m\"ecli\"\u001b[0m\u001b[0;34m,\u001b[0m \u001b[0;34m\"—\"\u001b[0m\u001b[0;34m)\u001b[0m\u001b[0;34m)\u001b[0m\u001b[0;34m\u001b[0m\u001b[0;34m\u001b[0m\u001b[0m\n",
      "\u001b[0;31mNameError\u001b[0m: name 'citations' is not defined"
     ]
    }
   ],
   "source": [
    "unhandled_citations = [c for c in citations if not c.get(\"normalized_text\")]\n",
    "\n",
    "for c in unhandled_citations[:5]:\n",
    "    print(\"Original:\", c[\"citation\"])\n",
    "    print(\"ECLI:\", c.get(\"ecli\", \"—\"))\n",
    "    print(\"Tokens:\", \" \".join([t[\"token\"] for t in c.get(\"tags\", [])]))\n",
    "    print(\"ID:\", c[\"id\"])\n",
    "    print(\"-\" * 80)\n",
    "\n",
    "print(f\"\\nTotal citations with empty normalization: {len(unhandled_citations)}\")\n",
    "\n",
    "output_path = Path(\"unhandled_citations.jsonl\")\n",
    "with output_path.open(\"w\", encoding=\"utf-8\") as f:\n",
    "    for c in unhandled_citations:\n",
    "        f.write(json.dumps(c, ensure_ascii=False) + \"\\n\")\n"
   ]
  },
  {
   "cell_type": "code",
   "execution_count": 26,
   "id": "f9544ad2-5516-4525-93b1-9da0c6f2f1d8",
   "metadata": {},
   "outputs": [
    {
     "data": {
      "text/plain": [
       "[('I-Datum', 3330),\n",
       " ('B-Datum', 974),\n",
       " ('B-Seite-Beginn', 970),\n",
       " ('I-Titel', 423),\n",
       " ('I-Aktenzeichen', 375),\n",
       " ('B-Jahr', 303),\n",
       " ('B-Seite-Fundstelle', 245),\n",
       " ('B-Nummer', 121),\n",
       " ('I-Gericht', 93),\n",
       " ('I-Randnummer', 81),\n",
       " ('B-Wort:aaO', 43),\n",
       " ('I-Zeitschrift', 21),\n",
       " ('I-Paragraph', 17),\n",
       " ('I-Gesetz', 11),\n",
       " ('I-Nummer', 8),\n",
       " ('B-Wort:Auflage', 2),\n",
       " ('B-Editor', 2)]"
      ]
     },
     "execution_count": 26,
     "metadata": {},
     "output_type": "execute_result"
    }
   ],
   "source": [
    "tag_counter = Counter()\n",
    "for citation in unhandled_citations:\n",
    "    tags = [t[\"tag\"] for t in citation.get(\"tags\", []) if t[\"tag\"] != \"O\"]\n",
    "    tag_counter.update(tags)\n",
    "\n",
    "tag_counter.most_common()"
   ]
  },
  {
   "cell_type": "markdown",
   "id": "1ea029bc-f208-4bd9-a26f-7678f4ca126a",
   "metadata": {},
   "source": [
    "These citations are not completely empty — most have 1 or 2 low-signal tags, but no core anchor field like:\n",
    "B-Gericht\n",
    "B-Datum\n",
    "B-Aktenzeichen\n",
    "B-Autor, B-Titel\n",
    "Many likely refer to continuations or secondary references, e.g.:\n",
    "\"= NVwZ-RR 1999, 66\" — a page in another journal\n",
    "\"vgl. Rdnr. 29\" — points to a number in an earlier citation"
   ]
  },
  {
   "cell_type": "markdown",
   "id": "6ceb6812-a179-4fb6-af92-ec1b8b48a7e2",
   "metadata": {},
   "source": [
    "Step 4c : labeling"
   ]
  },
  {
   "cell_type": "markdown",
   "id": "c69f605b-af81-4257-b47d-97886867e069",
   "metadata": {},
   "source": [
    "Labeling as partial (potential reference), maybe later with the ecli code we can discover what they are refering to\n",
    "A citation is \"partial\" if:\n",
    "It lacks key identifying fields (Gericht, Aktenzeichen, Zeitschrift, etc.)\n",
    "OR it contains inline reference markers (a.a.O., ebd.)\n",
    "EVEN IF a minimal normalization was produced (e.g., just Datum)"
   ]
  },
  {
   "cell_type": "code",
   "execution_count": 27,
   "id": "6e84a46e-3984-4314-9328-cdbab2a8814d",
   "metadata": {},
   "outputs": [],
   "source": [
    "for citation in citations:\n",
    "    expanded = citation.get(\"expanded_fields\", {})\n",
    "    inline_text = \" \".join([t[\"token\"] for t in citation.get(\"tags\", [])])\n",
    "    has_inline_ref = re.search(r\"\\ba\\.a\\.O\\.\\b|\\bebd\\.\\b\", inline_text, flags=re.IGNORECASE)\n",
    "\n",
    "    has_core_info = any(field in expanded for field in [\n",
    "        \"Gericht\", \"Aktenzeichen\", \"Zeitschrift\", \"Autor\", \"Titel\"\n",
    "    ])\n",
    "\n",
    "    if not expanded:\n",
    "        citation[\"citation_type\"] = \"non-legal\"\n",
    "    elif not has_core_info or has_inline_ref:\n",
    "        citation[\"citation_type\"] = \"partial\"\n",
    "    else:\n",
    "        citation[\"citation_type\"] = \"full\"\n"
   ]
  },
  {
   "cell_type": "code",
   "execution_count": 97,
   "id": "ae361cb0-a91f-4054-bcd0-11b29321c46a",
   "metadata": {},
   "outputs": [
    {
     "name": "stdout",
     "output_type": "stream",
     "text": [
      "Original: BVerwG, Urt. v. 26.06.1987 - 8 C 21/86 -, BVerwGE 78, 3\n",
      "Normalized: Bundesverwaltungsgericht, Urteil vom 1987.06.26, - 8 C 21/86 -, Entscheidungen des Bundesverwaltungsgerichts 78, 3\n",
      "Citation Type: full\n",
      "ID: cit0\n",
      "--------------------------------------------------------------------------------\n"
     ]
    }
   ],
   "source": [
    "for c in citations[:1]:\n",
    "    print(\"Original:\", c[\"citation\"])\n",
    "    print(\"Normalized:\", c.get(\"normalized_text\", \"\"))\n",
    "    print(\"Citation Type:\", c[\"citation_type\"])\n",
    "    print(\"ID:\", c[\"id\"])\n",
    "    print(\"-\" * 80)"
   ]
  },
  {
   "cell_type": "code",
   "execution_count": null,
   "id": "8107addb-9c44-4805-9aa9-29f718c80bfc",
   "metadata": {},
   "outputs": [],
   "source": [
    "for c in citations:\n",
    "    if c.get(\"citation_type\") == \"non-legal\":\n",
    "        print(\"-\" * 80)\n",
    "        print(\"Original:\", c[\"citation\"])\n",
    "        print(\"Normalized:\", c.get(\"normalized_citation\", \"\"))\n",
    "        print(\"Citation Type:\", c.get(\"citation_type\"))\n",
    "        print(\"ID:\", c[\"id\"])\n"
   ]
  },
  {
   "cell_type": "markdown",
   "id": "07841b41-a313-44c0-ab0b-7c493b089387",
   "metadata": {},
   "source": [
    "Check 1 – Non-legal citations with strong legal fields"
   ]
  },
  {
   "cell_type": "code",
   "execution_count": 85,
   "id": "2ad520c9-f287-4631-a93e-33197b726e4f",
   "metadata": {},
   "outputs": [],
   "source": [
    "suspicious_legal_fields = [\"Gericht\", \"Aktenzeichen\", \"Zeitschrift\", \"Paragraph\", \"Titel\", \"Gesetz\"]\n",
    "for cit in citations:\n",
    "    if cit.get(\"citation_type\") == \"non-legal\":\n",
    "        fields = cit.get(\"expanded_fields\", {})\n",
    "        if any(field in fields for field in suspicious_legal_fields):\n",
    "            print(\"-\" * 80)\n",
    "            print(\"❗️Possible misclassified legal citation\")\n",
    "            print(\"Original:\", cit[\"citation\"])\n",
    "            print(\"Normalized Fields:\", fields)\n",
    "            print(\"ID:\", cit[\"id\"])\n",
    "\n",
    "\n"
   ]
  },
  {
   "cell_type": "markdown",
   "id": "3495c742-5416-4078-bfe8-60f85fb6d1c6",
   "metadata": {},
   "source": [
    "Check 2 – Non-legal citations with legal-looking patterns"
   ]
  },
  {
   "cell_type": "code",
   "execution_count": 86,
   "id": "3359e945-f8a4-4fd7-b50d-ab386affe1fc",
   "metadata": {},
   "outputs": [],
   "source": [
    "legal_patterns = [\n",
    "    r\"\\bAz\\b\", r\"\\bAz\\.\", r\"\\bBGBl\\b\", r\"\\bBVerwG\\b\", r\"\\b§\\s*\\d+\", r\"\\bUrteil\\b\", r\"\\bECLI:\",\n",
    "    r\"\\d+\\s*[A-Z]+\\s*\\d+/\\d+\",  # Aktenzeichen patroon\n",
    "]\n",
    "\n",
    "for cit in citations:\n",
    "    if cit.get(\"citation_type\") == \"non-legal\":\n",
    "        text = cit.get(\"citation\", \"\")\n",
    "        if any(re.search(pat, text) for pat in legal_patterns):\n",
    "            print(\"-\" * 80)\n",
    "            print(\"❗️Legal-looking pattern in non-legal citation\")\n",
    "            print(\"Original:\", cit[\"citation\"])\n",
    "            print(\"ID:\", cit[\"id\"])\n"
   ]
  },
  {
   "cell_type": "markdown",
   "id": "757c984c-b116-4289-8721-4dd031160fa6",
   "metadata": {},
   "source": [
    "Relabel Non-legal citations with legal-looking patterns"
   ]
  },
  {
   "cell_type": "code",
   "execution_count": 28,
   "id": "0a597b2d-3e37-4fc9-97b4-01b2c5ea1cf0",
   "metadata": {},
   "outputs": [],
   "source": [
    "fallback_patterns = [\n",
    "    r\"\\bAz\\b\", r\"\\bAz\\.\", r\"\\bBGBl\\b\", r\"\\bBVerwG\\b\", r\"\\bUrteil\\b\", r\"\\bBeschluss\\b\", \n",
    "    r\"\\bSenat\\b\", r\"\\b§\\s*\\d+\", r\"\\bECLI:\", r\"\\ba\\.a\\.O\\.\", r\"\\bm\\.w\\.N\\.\", r\"\\bjuris\\b\", \n",
    "    r\"\\bständige\\s+Rechtsprechung\\b\", r\"\\b\\d+\\s*[A-Z]+\\s*\\d+/\\d+\", r\"\\bEntscheidung\\b\"\n",
    "]\n",
    "\n",
    "for citation in citations:\n",
    "    if citation.get(\"citation_type\") == \"non-legal\":\n",
    "        if any(re.search(p, citation.get(\"citation\", \"\"), flags=re.IGNORECASE) for p in fallback_patterns):\n",
    "            citation[\"citation_type\"] = \"partial\"\n"
   ]
  },
  {
   "cell_type": "markdown",
   "id": "6b11e6d7-c3a2-49ab-a336-1ea35e4a8607",
   "metadata": {},
   "source": [
    "# Save as JSONL"
   ]
  },
  {
   "cell_type": "code",
   "execution_count": 29,
   "id": "816e7b31-46a5-4826-870d-7c6ed819ce25",
   "metadata": {},
   "outputs": [],
   "source": [
    "import json\n",
    "from pathlib import Path\n",
    "\n",
    "output_path = Path(\"../data/normalized_citations.jsonl\")\n",
    "\n",
    "with output_path.open(\"w\", encoding=\"utf-8\") as f:\n",
    "    for citation in citations:\n",
    "        json_line = json.dumps(citation, ensure_ascii=False)\n",
    "        f.write(json_line + \"\\n\")\n"
   ]
  }
 ],
 "metadata": {
  "kernelspec": {
   "display_name": "Python 3 (ipykernel)",
   "language": "python",
   "name": "python3"
  },
  "language_info": {
   "codemirror_mode": {
    "name": "ipython",
    "version": 3
   },
   "file_extension": ".py",
   "mimetype": "text/x-python",
   "name": "python",
   "nbconvert_exporter": "python",
   "pygments_lexer": "ipython3",
   "version": "3.9.7"
  }
 },
 "nbformat": 4,
 "nbformat_minor": 5
}
