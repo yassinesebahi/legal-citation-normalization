{
 "cells": [
  {
   "cell_type": "markdown",
   "id": "e45ecc20-4daf-4ad6-a671-c12440ad0639",
   "metadata": {},
   "source": [
    "# EDA ON NER OUTPUT"
   ]
  },
  {
   "cell_type": "code",
   "execution_count": 10,
   "id": "a809d2be-2e95-461e-ac65-8879bcbbfa6f",
   "metadata": {},
   "outputs": [],
   "source": [
    "import json\n",
    "from collections import Counter\n",
    "import pandas as pd\n",
    "import matplotlib.pyplot as plt"
   ]
  },
  {
   "cell_type": "code",
   "execution_count": 13,
   "id": "3960e7cd-002c-43a2-a581-65cc6afb03ab",
   "metadata": {},
   "outputs": [
    {
     "name": "stdout",
     "output_type": "stream",
     "text": [
      "Dataset Overview\n",
      "- Total entries: 28880\n",
      "- CITATION entries: 28880\n",
      "- NOT_CITATION entries: 0\n",
      "- Average tokens per CITATION: 24.02\n",
      "- Minimum tokens in a CITATION: 2\n",
      "- Maximum tokens in a CITATION: 126\n",
      "- Unique tags used: 29\n",
      "\n",
      "Tag Frequency Table:\n",
      "                   Tag   Count\n",
      "0                    O  331648\n",
      "1       I-Aktenzeichen   74713\n",
      "2              I-Datum   72222\n",
      "3            B-Gericht   21427\n",
      "4              B-Datum   19753\n",
      "5       B-Aktenzeichen   17987\n",
      "6       B-Seite-Beginn   16732\n",
      "7              B-Autor   16370\n",
      "8         B-Randnummer   14954\n",
      "9        B-Zeitschrift   14794\n",
      "10              B-Jahr   13226\n",
      "11           I-Gericht   12875\n",
      "12         I-Paragraph   12663\n",
      "13         B-Paragraph    9003\n",
      "14            B-Gesetz    7724\n",
      "15           B-Auflage    7153\n",
      "16       I-Zeitschrift    5399\n",
      "17             I-Titel    4877\n",
      "18  B-Seite-Fundstelle    4066\n",
      "19            B-Nummer    4037\n",
      "20             B-Titel    3350\n",
      "21        I-Randnummer    2839\n",
      "22            B-Editor    2392\n",
      "23            I-Nummer    1127\n",
      "24          B-Wort:aaO     982\n",
      "25            I-Gesetz     736\n",
      "26             I-Autor     493\n",
      "27            I-Editor      48\n",
      "28      B-Wort:Auflage       3\n",
      "\n",
      "Summary Statistics:\n",
      "Total citations: 28880\n",
      "Total tags: 693593\n",
      "Average tags per citation: 24.02\n",
      "Most common tag: O\n",
      "Most common tag count: 331648\n",
      "Unique tags: 29\n"
     ]
    }
   ],
   "source": [
    "with open(\"../data/tagged_citations.jsonl\", \"r\", encoding=\"utf-8\") as f:\n",
    "    data = [json.loads(line) for line in f]\n",
    "\n",
    "\n",
    "total_entries = len(data)\n",
    "label_counts = Counter(entry[\"label\"] for entry in data)\n",
    "citation_entries = [entry for entry in data if entry[\"label\"] == \"CITATION\" and \"tags\" in entry]\n",
    "tag_counter = Counter()\n",
    "token_lengths = []\n",
    "\n",
    "for entry in citation_entries:\n",
    "    tokens = entry[\"tags\"]\n",
    "    token_lengths.append(len(tokens))\n",
    "    for tok in tokens:\n",
    "        tag_counter[tok[\"tag\"]] += 1\n",
    "\n",
    "total_citations = len(citation_entries)\n",
    "avg_tokens = sum(token_lengths) / total_citations if total_citations > 0 else 0\n",
    "min_tokens = min(token_lengths) if token_lengths else 0\n",
    "max_tokens = max(token_lengths) if token_lengths else 0\n",
    "\n",
    "print(\"Dataset Overview\")\n",
    "print(f\"- Total entries: {total_entries}\")\n",
    "print(f\"- CITATION entries: {label_counts['CITATION']}\")\n",
    "print(f\"- NOT_CITATION entries: {label_counts['NOT_CITATION']}\")\n",
    "print(f\"- Average tokens per CITATION: {avg_tokens:.2f}\")\n",
    "print(f\"- Minimum tokens in a CITATION: {min_tokens}\")\n",
    "print(f\"- Maximum tokens in a CITATION: {max_tokens}\")\n",
    "print(f\"- Unique tags used: {len(tag_counter)}\")\n",
    "\n",
    "tag_freq_df = pd.DataFrame(tag_counter.items(), columns=[\"Tag\", \"Count\"]).sort_values(by=\"Count\", ascending=False)\n",
    "tag_freq_df.reset_index(drop=True, inplace=True)\n",
    "total_tags = sum(tag_counter.values())\n",
    "avg_tags_per_entry = total_tags / total_entries if total_entries else 0\n",
    "most_common_tag, most_common_count = tag_counter.most_common(1)[0]\n",
    "\n",
    "summary_stats = {\n",
    "    \"Total citations\": total_entries,\n",
    "    \"Total tags\": total_tags,\n",
    "    \"Average tags per citation\": round(avg_tags_per_entry, 2),\n",
    "    \"Most common tag\": most_common_tag,\n",
    "    \"Most common tag count\": most_common_count,\n",
    "    \"Unique tags\": len(tag_counter)\n",
    "}\n",
    "\n",
    "\n",
    "print(\"\\nTag Frequency Table:\")\n",
    "print(tag_freq_df)\n",
    "print(\"\\nSummary Statistics:\")\n",
    "for k, v in summary_stats.items():\n",
    "    print(f\"{k}: {v}\")\n"
   ]
  },
  {
   "cell_type": "code",
   "execution_count": 14,
   "id": "0f2fb4ae-a723-4014-bf26-1cbbc521d4d5",
   "metadata": {},
   "outputs": [
    {
     "data": {
      "image/png": "[encoded data removed]",
      "text/plain": [
       "<Figure size 720x576 with 1 Axes>"
      ]
     },
     "metadata": {
      "needs_background": "light"
     },
     "output_type": "display_data"
    }
   ],
   "source": [
    "tag_freq_df.sort_values(by=\"Count\", ascending=True).plot(kind=\"barh\", figsize=(10, 8), title=\"NER Tag Frequency Distribution\")\n",
    "plt.xlabel(\"Frequency\")\n",
    "plt.ylabel(\"Tag\")\n",
    "plt.tight_layout()\n",
    "plt.show()\n"
   ]
  },
  {
   "cell_type": "code",
   "execution_count": null,
   "id": "447acdd6-a848-4a07-afd0-495660f46dee",
   "metadata": {},
   "outputs": [],
   "source": []
  }
 ],
 "metadata": {
  "kernelspec": {
   "display_name": "Python 3 (ipykernel)",
   "language": "python",
   "name": "python3"
  },
  "language_info": {
   "codemirror_mode": {
    "name": "ipython",
    "version": 3
   },
   "file_extension": ".py",
   "mimetype": "text/x-python",
   "name": "python",
   "nbconvert_exporter": "python",
   "pygments_lexer": "ipython3",
   "version": "3.9.7"
  }
 },
 "nbformat": 4,
 "nbformat_minor": 5
}
