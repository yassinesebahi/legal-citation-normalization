{
 "cells": [
  {
   "cell_type": "code",
   "execution_count": null,
   "id": "eaf95805-4ce9-4a0a-b40c-851aaa41db19",
   "metadata": {},
   "outputs": [],
   "source": [
    "import re\n",
    "import json\n",
    "from pathlib import Path\n",
    "import json\n",
    "from label import tag_sentence"
   ]
  },
  {
   "cell_type": "code",
   "execution_count": null,
   "id": "255b344f-1092-4b13-a5fb-b740a47a50a5",
   "metadata": {},
   "outputs": [],
   "source": [
    "input_file = Path(\"../data/braces-data/braces-Schleswig-Holstein-2023-06-07.txt\")\n",
    "output_file = Path(\"../data/sorted_citations_cleaned_fixed.jsonl\")\n",
    "\n",
    "citation_clean_pattern = re.compile(r\"^(?:\\.\\./[^ ]*|vgl\\.|https?://\\S+)\\s*\")\n",
    "ecli_prefix = \"../../gesp-experiments/unified-gesp-dataset/\"\n",
    "\n",
    "records = []\n",
    "\n",
    "with input_file.open(\"r\", encoding=\"utf-8\", errors=\"replace\") as f:\n",
    "    for line in f:\n",
    "        line = line.strip()\n",
    "        if line.startswith(ecli_prefix):\n",
    "            parts = line.split(\" \", 1)\n",
    "            if len(parts) == 2:\n",
    "                path_part, citation_part = parts\n",
    "                ecli = path_part.split(\"/\")[-1]\n",
    "                cleaned_citation = re.sub(citation_clean_pattern, '', citation_part)\n",
    "                records.append({\n",
    "                    \"ecli\": ecli,\n",
    "                    \"citation\": cleaned_citation\n",
    "                })\n",
    "\n",
    "with output_file.open(\"w\", encoding=\"utf-8\") as f:\n",
    "    for rec in records:\n",
    "        f.write(json.dumps(rec, ensure_ascii=False) + \"\\n\")\n",
    "\n",
    "print(f\"Done {len(records)} citations saved to {output_file}\")\n"
   ]
  },
  {
   "cell_type": "code",
   "execution_count": null,
   "id": "5a4b20de-90da-4fe8-ad2a-1881474bbe3b",
   "metadata": {},
   "outputs": [],
   "source": [
    "input_path = \"../data/sorted_citations_cleaned_fixed.jsonl\"\n",
    "output_path = \"../data/tag_only_classification.jsonl\"\n",
    "\n",
    "results = []\n",
    "\n",
    "with open(input_path, \"r\", encoding=\"utf-8\") as f:\n",
    "    for i, line in enumerate(f):\n",
    "        item = json.loads(line)\n",
    "        citation = item.get(\"citation\", \"\")\n",
    "        ecli = item.get(\"ecli\", \"\")\n",
    "        \n",
    "        tags = tag_sentence(citation)\n",
    "        label = \"CITATION\" if any(tag[\"tag\"] != \"O\" for tag in tags) else \"NOT_CITATION\"\n",
    "        \n",
    "        results.append({\n",
    "            \"ecli\": ecli,\n",
    "            \"citation\": citation,\n",
    "            \"label\": label,\n",
    "            \"tags\": tags\n",
    "        })\n",
    "\n",
    "with open(output_path, \"w\", encoding=\"utf-8\") as outfile:\n",
    "    for entry in results:\n",
    "        outfile.write(json.dumps(entry, ensure_ascii=False) + \"\\n\")\n",
    "\n",
    "print(f\"Tag-only classification complete — {len(results)} processed and saved to {output_path}\")\n"
   ]
  },
  {
   "cell_type": "code",
   "execution_count": null,
   "id": "bd2cf753-4944-49ee-b893-a60bac0d0bfc",
   "metadata": {},
   "outputs": [],
   "source": []
  }
 ],
 "metadata": {
  "kernelspec": {
   "display_name": "Python 3 (ipykernel)",
   "language": "python",
   "name": "python3"
  },
  "language_info": {
   "codemirror_mode": {
    "name": "ipython",
    "version": 3
   },
   "file_extension": ".py",
   "mimetype": "text/x-python",
   "name": "python",
   "nbconvert_exporter": "python",
   "pygments_lexer": "ipython3",
   "version": "3.9.7"
  }
 },
 "nbformat": 4,
 "nbformat_minor": 5
}
